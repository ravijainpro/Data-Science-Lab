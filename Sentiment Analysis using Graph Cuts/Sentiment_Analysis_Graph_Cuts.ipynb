{
  "nbformat": 4,
  "nbformat_minor": 0,
  "metadata": {
    "colab": {
      "name": "Sentiment Analysis - Graph Cuts.ipynb",
      "provenance": [],
      "collapsed_sections": [],
      "authorship_tag": "ABX9TyNHo/z0BmNSGK9qZZzhdasj",
      "include_colab_link": true
    },
    "kernelspec": {
      "name": "python3",
      "display_name": "Python 3"
    },
    "accelerator": "TPU"
  },
  "cells": [
    {
      "cell_type": "markdown",
      "metadata": {
        "id": "view-in-github",
        "colab_type": "text"
      },
      "source": [
        "<a href=\"https://colab.research.google.com/github/ravijainpro/Data-Science-Lab/blob/master/Sentiment%20Analysis%20using%20Graph%20Cuts/Sentiment_Analysis_Graph_Cuts.ipynb\" target=\"_parent\"><img src=\"https://colab.research.google.com/assets/colab-badge.svg\" alt=\"Open In Colab\"/></a>"
      ]
    },
    {
      "cell_type": "code",
      "metadata": {
        "id": "0Bv-dFLq-YWe",
        "colab_type": "code",
        "colab": {}
      },
      "source": [
        "import os\n",
        "import zipfile\n",
        "\n",
        "#positive reviews\n",
        "pos_reviews_initial={} #dictonary to store postive reviews without preprocessing \n",
        "pos=0\n",
        "with zipfile.ZipFile('pos.zip') as z:\n",
        "    for filename in z.namelist():\n",
        "        if not os.path.isdir(filename):\n",
        "            pos_reviews_initial[pos]=list() #dictonary to hold review semtences in a list\n",
        "            with z.open(filename) as f:\n",
        "                for line in f:\n",
        "                    pos_reviews_initial[pos].append(line)\n",
        "            pos=pos+1\n",
        "\n",
        "#negative reviews\n",
        "neg_reviews_initial={} #dictonary to store postive reviews without preprocessing \n",
        "pos=0\n",
        "with zipfile.ZipFile('neg.zip') as z:\n",
        "    for filename in z.namelist():\n",
        "        if not os.path.isdir(filename):\n",
        "            neg_reviews_initial[pos]=list() #dictonary to hold review semtences in a list\n",
        "            with z.open(filename) as f:\n",
        "                for line in f:\n",
        "                    neg_reviews_initial[pos].append(line)\n",
        "            pos=pos+1"
      ],
      "execution_count": 0,
      "outputs": []
    },
    {
      "cell_type": "code",
      "metadata": {
        "id": "tHd8JxP-AW0X",
        "colab_type": "code",
        "outputId": "af463c49-76f6-4291-a58a-c7002f3d3461",
        "colab": {
          "base_uri": "https://localhost:8080/",
          "height": 159
        }
      },
      "source": [
        "#format checking\n",
        "#positive review\n",
        "print(len(pos_reviews_initial[0])) #zero length item\n",
        "print(pos_reviews_initial[1])\n",
        "print(len(pos_reviews_initial),\"\\n\") #no of positive reviews\n",
        "\n",
        "#negative review\n",
        "print(len(neg_reviews_initial[0])) #zero length item\n",
        "print(neg_reviews_initial[1])\n",
        "print(len(neg_reviews_initial)) #no of positive reviews"
      ],
      "execution_count": 235,
      "outputs": [
        {
          "output_type": "stream",
          "text": [
            "0\n",
            "[b\"films adapted from comic books have had plenty of success , whether they're about superheroes ( batman , superman , spawn ) , or geared toward kids ( casper ) or the arthouse crowd ( ghost world ) , but there's never really been a comic book like from hell before . \\n\", b\"for starters , it was created by alan moore ( and eddie campbell ) , who brought the medium to a whole new level in the mid '80s with a 12-part series called the watchmen . \\n\", b'to say moore and campbell thoroughly researched the subject of jack the ripper would be like saying michael jackson is starting to look a little odd . \\n', b'the book ( or \" graphic novel , \" if you will ) is over 500 pages long and includes nearly 30 more that consist of nothing but footnotes . \\n', b\"in other words , don't dismiss this film because of its source . \\n\", b\"if you can get past the whole comic book thing , you might find another stumbling block in from hell's directors , albert and allen hughes . \\n\", b\"getting the hughes brothers to direct this seems almost as ludicrous as casting carrot top in , well , anything , but riddle me this : who better to direct a film that's set in the ghetto and features really violent street crime than the mad geniuses behind menace ii society ? \\n\", b\"the ghetto in question is , of course , whitechapel in 1888 london's east end . \\n\", b'it\\'s a filthy , sooty place where the whores ( called \" unfortunates \" ) are starting to get a little nervous about this mysterious psychopath who has been carving through their profession with surgical precision . \\n', b'when the first stiff turns up , copper peter godley ( robbie coltrane , the world is not enough ) calls in inspector frederick abberline ( johnny depp , blow ) to crack the case . \\n', b'abberline , a widower , has prophetic dreams he unsuccessfully tries to quell with copious amounts of absinthe and opium . \\n', b\"upon arriving in whitechapel , he befriends an unfortunate named mary kelly ( heather graham , say it isn't so ) and proceeds to investigate the horribly gruesome crimes that even the police surgeon can't stomach . \\n\", b\"i don't think anyone needs to be briefed on jack the ripper , so i won't go into the particulars here , other than to say moore and campbell have a unique and interesting theory about both the identity of the killer and the reasons he chooses to slay . \\n\", b\"in the comic , they don't bother cloaking the identity of the ripper , but screenwriters terry hayes ( vertical limit ) and rafael yglesias ( les mis ? rables ) do a good job of keeping him hidden from viewers until the very end . \\n\", b\"it's funny to watch the locals blindly point the finger of blame at jews and indians because , after all , an englishman could never be capable of committing such ghastly acts . \\n\", b'and from hell\\'s ending had me whistling the stonecutters song from the simpsons for days ( \" who holds back the electric car/who made steve guttenberg a star ? \" ) . \\n', b\"don't worry - it'll all make sense when you see it . \\n\", b\"now onto from hell's appearance : it's certainly dark and bleak enough , and it's surprising to see how much more it looks like a tim burton film than planet of the apes did ( at times , it seems like sleepy hollow 2 ) . \\n\", b\"the print i saw wasn't completely finished ( both color and music had not been finalized , so no comments about marilyn manson ) , but cinematographer peter deming ( don't say a word ) ably captures the dreariness of victorian-era london and helped make the flashy killing scenes remind me of the crazy flashbacks in twin peaks , even though the violence in the film pales in comparison to that in the black-and-white comic . \\n\", b\"oscar winner martin childs' ( shakespeare in love ) production design turns the original prague surroundings into one creepy place . \\n\", b'even the acting in from hell is solid , with the dreamy depp turning in a typically strong performance and deftly handling a british accent . \\n', b\"ians holm ( joe gould's secret ) and richardson ( 102 dalmatians ) log in great supporting roles , but the big surprise here is graham . \\n\", b\"i cringed the first time she opened her mouth , imagining her attempt at an irish accent , but it actually wasn't half bad . \\n\", b'the film , however , is all good . \\n', b'2 : 00 - r for strong violence/gore , sexuality , language and drug content \\n']\n",
            "1001 \n",
            "\n",
            "0\n",
            "[b'plot : two teen couples go to a church party , drink and then drive . \\n', b'they get into an accident . \\n', b'one of the guys dies , but his girlfriend continues to see him in her life , and has nightmares . \\n', b\"what's the deal ? \\n\", b'watch the movie and \" sorta \" find out . . . \\n', b'critique : a mind-fuck movie for the teen generation that touches on a very cool idea , but presents it in a very bad package . \\n', b\"which is what makes this review an even harder one to write , since i generally applaud films which attempt to break the mold , mess with your head and such ( lost highway & memento ) , but there are good and bad ways of making all types of films , and these folks just didn't snag this one correctly . \\n\", b'they seem to have taken this pretty neat concept , but executed it terribly . \\n', b'so what are the problems with the movie ? \\n', b\"well , its main problem is that it's simply too jumbled . \\n\", b'it starts off \" normal \" but then downshifts into this \" fantasy \" world in which you , as an audience member , have no idea what\\'s going on . \\n', b'there are dreams , there are characters coming back from the dead , there are others who look like the dead , there are strange apparitions , there are disappearances , there are a looooot of chase scenes , there are tons of weird things that happen , and most of it is simply not explained . \\n', b\"now i personally don't mind trying to unravel a film every now and then , but when all it does is give me the same clue over and over again , i get kind of fed up after a while , which is this film's biggest problem . \\n\", b\"it's obviously got this big secret to hide , but it seems to want to hide it completely until its final five minutes . \\n\", b'and do they make things entertaining , thrilling or even engaging , in the meantime ? \\n', b'not really . \\n', b\"the sad part is that the arrow and i both dig on flicks like this , so we actually figured most of it out by the half-way point , so all of the strangeness after that did start to make a little bit of sense , but it still didn't the make the film all that more entertaining . \\n\", b'i guess the bottom line with movies like this is that you should always make sure that the audience is \" into it \" even before they are given the secret password to enter your world of understanding . \\n', b'i mean , showing melissa sagemiller running away from visions for about 20 minutes throughout the movie is just plain lazy ! ! \\n', b'okay , we get it . . . there \\n', b\"are people chasing her and we don't know who they are . \\n\", b'do we really need to see it over and over again ? \\n', b'how about giving us different scenes offering further insight into all of the strangeness going down in the movie ? \\n', b'apparently , the studio took this film away from its director and chopped it up themselves , and it shows . \\n', b'there might\\'ve been a pretty decent teen mind-fuck movie in here somewhere , but i guess \" the suits \" decided that turning it into a music video with little edge , would make more sense . \\n', b'the actors are pretty good for the most part , although wes bentley just seemed to be playing the exact same character that he did in american beauty , only in a new neighborhood . \\n', b\"but my biggest kudos go out to sagemiller , who holds her own throughout the entire film , and actually has you feeling her character's unraveling . \\n\", b\"overall , the film doesn't stick because it doesn't entertain , it's confusing , it rarely excites and it feels pretty redundant for most of its runtime , despite a pretty cool ending and explanation to all of the craziness that came before it . \\n\", b\"oh , and by the way , this is not a horror or teen slasher flick . . . it's \\n\", b'just packaged to look that way because someone is apparently assuming that the genre is still hot with the kids . \\n', b'it also wrapped production two years ago and has been sitting on the shelves ever since . \\n', b'whatever . . . skip \\n', b'it ! \\n', b\"where's joblo coming from ? \\n\", b'a nightmare of elm street 3 ( 7/10 ) - blair witch 2 ( 7/10 ) - the crow ( 9/10 ) - the crow : salvation ( 4/10 ) - lost highway ( 10/10 ) - memento ( 10/10 ) - the others ( 9/10 ) - stir of echoes ( 8/10 ) \\n']\n",
            "1001\n"
          ],
          "name": "stdout"
        }
      ]
    },
    {
      "cell_type": "code",
      "metadata": {
        "id": "K-5OHXsuEdyP",
        "colab_type": "code",
        "outputId": "ce8ca821-35a2-4560-889c-24f628b0b487",
        "colab": {
          "base_uri": "https://localhost:8080/",
          "height": 86
        }
      },
      "source": [
        "#using NLTK library => text preprocesing\n",
        "import nltk\n",
        "nltk.download('wordnet')\n",
        "from nltk.corpus import stopwords \n",
        "nltk.download('stopwords') #stop words ('the' ,'is', etc) => to be removed from the sentences (As they ain't significant feature)\n",
        "stop_words = set(stopwords.words('english'))#stop words\n",
        "#using NLTK stemming tokens (part of normalization)\n",
        "from nltk.stem.porter import PorterStemmer\n",
        "stemmer = PorterStemmer()\n",
        "#using NLTK lemmatization of tokens (part of normalization)\n",
        "from nltk.stem import WordNetLemmatizer\n",
        "lemmatizer = WordNetLemmatizer()\n",
        "\n",
        "#for postive reviews train set (let the ratio of train and test data be 80:20)\n",
        "pos_reviews_train={}\n",
        "pos_reviews_test={}\n",
        "pos=0\n",
        "for review in pos_reviews_initial:\n",
        "  if 100<=pos<=1000: #90% of data is train data\n",
        "    if len(pos_reviews_initial[review])>1: #eliminate those reviews which has less than 1 sentence of review. (Just a check)\n",
        "      pos_reviews_train[pos-100]=[]\n",
        "      for sentence in pos_reviews_initial[review]:\n",
        "        tokens=sentence.lower().split() #converting sentence to lower case before splitting into words\n",
        "        tokens = [str(w) for w in tokens if str(w) not in stop_words and len(w)>2] #len>2 to get rid of punctuations \n",
        "        tokens = [stemmer.stem(w) for w in tokens] #stemming\n",
        "        tokens = [lemmatizer.lemmatize(w) for w in tokens] #lemmatization\n",
        "        pos_reviews_train[pos-100].append(tokens)\n",
        "      #pos+=1\n",
        "  if pos<100: #test data zone\n",
        "    if len(pos_reviews_initial[review])>1: #eliminate those reviews which has less than 1 sentence of review. (Just a check)\n",
        "      pos_reviews_test[pos]=[]\n",
        "      for sentence in pos_reviews_initial[review]:\n",
        "        tokens=sentence.lower().split() #converting sentence to lower case before splitting into words\n",
        "        tokens = [str(w) for w in tokens if str(w) not in stop_words and len(w)>2] #len>2 to get rid of punctuations \n",
        "        tokens = [stemmer.stem(w) for w in tokens] #stemming\n",
        "        tokens = [lemmatizer.lemmatize(w) for w in tokens] #lemmatization\n",
        "        pos_reviews_test[pos].append(tokens)\n",
        "      #pos+=1\n",
        "  if len(pos_reviews_initial[review])>1:\n",
        "    pos+=1\n",
        "\n",
        "#for negative reviews train set (let the ratio of train and test data be 80:20)\n",
        "neg_reviews_train={}\n",
        "neg_reviews_test={}\n",
        "pos=0\n",
        "for review in neg_reviews_initial:\n",
        "  if 100<=pos<=1000: #90% of data is train data\n",
        "    if len(neg_reviews_initial[review])>1: #eliminate those reviews which has less than 1 sentence of review. (Just a check)\n",
        "      neg_reviews_train[pos-100]=[]\n",
        "      for sentence in neg_reviews_initial[review]:\n",
        "        tokens=sentence.lower().split() #converting sentence to lower case before splitting into words\n",
        "        tokens = [str(w) for w in tokens if str(w) not in stop_words and len(w)>2] #len>2 to get rid of punctuations \n",
        "        tokens = [stemmer.stem(w) for w in tokens] #stemming\n",
        "        tokens = [lemmatizer.lemmatize(w) for w in tokens] #lemmatization\n",
        "        neg_reviews_train[pos-100].append(tokens)\n",
        "      #pos+=1\n",
        "  if pos<100: #test data zone\n",
        "    if len(neg_reviews_initial[review])>1: #eliminate those reviews which has less than 1 sentence of review. (Just a check)\n",
        "      neg_reviews_test[pos]=[]\n",
        "      for sentence in neg_reviews_initial[review]:\n",
        "        tokens=sentence.lower().split() #converting sentence to lower case before splitting into words\n",
        "        tokens = [str(w) for w in tokens if str(w) not in stop_words and len(w)>2] #len>2 to get rid of punctuations \n",
        "        tokens = [stemmer.stem(w) for w in tokens] #stemming\n",
        "        tokens = [lemmatizer.lemmatize(w) for w in tokens] #lemmatization\n",
        "        neg_reviews_test[pos].append(tokens)\n",
        "      #pos+=1\n",
        "  if len(pos_reviews_initial[review])>1:\n",
        "    pos+=1"
      ],
      "execution_count": 264,
      "outputs": [
        {
          "output_type": "stream",
          "text": [
            "[nltk_data] Downloading package wordnet to /root/nltk_data...\n",
            "[nltk_data]   Package wordnet is already up-to-date!\n",
            "[nltk_data] Downloading package stopwords to /root/nltk_data...\n",
            "[nltk_data]   Package stopwords is already up-to-date!\n"
          ],
          "name": "stdout"
        }
      ]
    },
    {
      "cell_type": "code",
      "metadata": {
        "id": "5mLiehXDHggV",
        "colab_type": "code",
        "outputId": "095bf71c-3845-4588-bc58-4c994960b872",
        "colab": {
          "base_uri": "https://localhost:8080/",
          "height": 176
        }
      },
      "source": [
        "#checking\n",
        "#pos\n",
        "print(pos_reviews_initial[1])\n",
        "print(pos_reviews_train[0][0])\n",
        "print(pos_reviews_test[0][0],\"\\n\\n\")\n",
        "#neg\n",
        "print(neg_reviews_initial[1])\n",
        "print(neg_reviews_train[0][0])\n",
        "print(neg_reviews_test[0][0])"
      ],
      "execution_count": 265,
      "outputs": [
        {
          "output_type": "stream",
          "text": [
            "[b\"films adapted from comic books have had plenty of success , whether they're about superheroes ( batman , superman , spawn ) , or geared toward kids ( casper ) or the arthouse crowd ( ghost world ) , but there's never really been a comic book like from hell before . \\n\", b\"for starters , it was created by alan moore ( and eddie campbell ) , who brought the medium to a whole new level in the mid '80s with a 12-part series called the watchmen . \\n\", b'to say moore and campbell thoroughly researched the subject of jack the ripper would be like saying michael jackson is starting to look a little odd . \\n', b'the book ( or \" graphic novel , \" if you will ) is over 500 pages long and includes nearly 30 more that consist of nothing but footnotes . \\n', b\"in other words , don't dismiss this film because of its source . \\n\", b\"if you can get past the whole comic book thing , you might find another stumbling block in from hell's directors , albert and allen hughes . \\n\", b\"getting the hughes brothers to direct this seems almost as ludicrous as casting carrot top in , well , anything , but riddle me this : who better to direct a film that's set in the ghetto and features really violent street crime than the mad geniuses behind menace ii society ? \\n\", b\"the ghetto in question is , of course , whitechapel in 1888 london's east end . \\n\", b'it\\'s a filthy , sooty place where the whores ( called \" unfortunates \" ) are starting to get a little nervous about this mysterious psychopath who has been carving through their profession with surgical precision . \\n', b'when the first stiff turns up , copper peter godley ( robbie coltrane , the world is not enough ) calls in inspector frederick abberline ( johnny depp , blow ) to crack the case . \\n', b'abberline , a widower , has prophetic dreams he unsuccessfully tries to quell with copious amounts of absinthe and opium . \\n', b\"upon arriving in whitechapel , he befriends an unfortunate named mary kelly ( heather graham , say it isn't so ) and proceeds to investigate the horribly gruesome crimes that even the police surgeon can't stomach . \\n\", b\"i don't think anyone needs to be briefed on jack the ripper , so i won't go into the particulars here , other than to say moore and campbell have a unique and interesting theory about both the identity of the killer and the reasons he chooses to slay . \\n\", b\"in the comic , they don't bother cloaking the identity of the ripper , but screenwriters terry hayes ( vertical limit ) and rafael yglesias ( les mis ? rables ) do a good job of keeping him hidden from viewers until the very end . \\n\", b\"it's funny to watch the locals blindly point the finger of blame at jews and indians because , after all , an englishman could never be capable of committing such ghastly acts . \\n\", b'and from hell\\'s ending had me whistling the stonecutters song from the simpsons for days ( \" who holds back the electric car/who made steve guttenberg a star ? \" ) . \\n', b\"don't worry - it'll all make sense when you see it . \\n\", b\"now onto from hell's appearance : it's certainly dark and bleak enough , and it's surprising to see how much more it looks like a tim burton film than planet of the apes did ( at times , it seems like sleepy hollow 2 ) . \\n\", b\"the print i saw wasn't completely finished ( both color and music had not been finalized , so no comments about marilyn manson ) , but cinematographer peter deming ( don't say a word ) ably captures the dreariness of victorian-era london and helped make the flashy killing scenes remind me of the crazy flashbacks in twin peaks , even though the violence in the film pales in comparison to that in the black-and-white comic . \\n\", b\"oscar winner martin childs' ( shakespeare in love ) production design turns the original prague surroundings into one creepy place . \\n\", b'even the acting in from hell is solid , with the dreamy depp turning in a typically strong performance and deftly handling a british accent . \\n', b\"ians holm ( joe gould's secret ) and richardson ( 102 dalmatians ) log in great supporting roles , but the big surprise here is graham . \\n\", b\"i cringed the first time she opened her mouth , imagining her attempt at an irish accent , but it actually wasn't half bad . \\n\", b'the film , however , is all good . \\n', b'2 : 00 - r for strong violence/gore , sexuality , language and drug content \\n']\n",
            "[\"b'james'\", \"b'brooks'\", \"b'one'\", \"b'the'\", \"b'developers'\", \"b'the'\", \"b'simpsons'\", \"b'and'\", \"b'director'\", \"b'broadcast'\", \"b'news'\", \"b'returns'\", \"b'the'\", \"b'big'\", \"b'screen'\", \"b'with'\", \"b'this'\", \"b'entertaining'\", \"b'slightly'\", \"b'flawed'\", \"b'comedy'\"]\n",
            "[\"b'films'\", \"b'adapted'\", \"b'from'\", \"b'comic'\", \"b'books'\", \"b'have'\", \"b'had'\", \"b'plenty'\", \"b'success'\", \"b'whether'\", 'b\"they\\'re\"', \"b'about'\", \"b'superheroes'\", \"b'batman'\", \"b'superman'\", \"b'spawn'\", \"b'geared'\", \"b'toward'\", \"b'kids'\", \"b'casper'\", \"b'the'\", \"b'arthouse'\", \"b'crowd'\", \"b'ghost'\", \"b'world'\", \"b'but'\", 'b\"there\\'s\"', \"b'never'\", \"b'really'\", \"b'been'\", \"b'comic'\", \"b'book'\", \"b'like'\", \"b'from'\", \"b'hell'\", \"b'before'\"] \n",
            "\n",
            "\n",
            "[b'plot : two teen couples go to a church party , drink and then drive . \\n', b'they get into an accident . \\n', b'one of the guys dies , but his girlfriend continues to see him in her life , and has nightmares . \\n', b\"what's the deal ? \\n\", b'watch the movie and \" sorta \" find out . . . \\n', b'critique : a mind-fuck movie for the teen generation that touches on a very cool idea , but presents it in a very bad package . \\n', b\"which is what makes this review an even harder one to write , since i generally applaud films which attempt to break the mold , mess with your head and such ( lost highway & memento ) , but there are good and bad ways of making all types of films , and these folks just didn't snag this one correctly . \\n\", b'they seem to have taken this pretty neat concept , but executed it terribly . \\n', b'so what are the problems with the movie ? \\n', b\"well , its main problem is that it's simply too jumbled . \\n\", b'it starts off \" normal \" but then downshifts into this \" fantasy \" world in which you , as an audience member , have no idea what\\'s going on . \\n', b'there are dreams , there are characters coming back from the dead , there are others who look like the dead , there are strange apparitions , there are disappearances , there are a looooot of chase scenes , there are tons of weird things that happen , and most of it is simply not explained . \\n', b\"now i personally don't mind trying to unravel a film every now and then , but when all it does is give me the same clue over and over again , i get kind of fed up after a while , which is this film's biggest problem . \\n\", b\"it's obviously got this big secret to hide , but it seems to want to hide it completely until its final five minutes . \\n\", b'and do they make things entertaining , thrilling or even engaging , in the meantime ? \\n', b'not really . \\n', b\"the sad part is that the arrow and i both dig on flicks like this , so we actually figured most of it out by the half-way point , so all of the strangeness after that did start to make a little bit of sense , but it still didn't the make the film all that more entertaining . \\n\", b'i guess the bottom line with movies like this is that you should always make sure that the audience is \" into it \" even before they are given the secret password to enter your world of understanding . \\n', b'i mean , showing melissa sagemiller running away from visions for about 20 minutes throughout the movie is just plain lazy ! ! \\n', b'okay , we get it . . . there \\n', b\"are people chasing her and we don't know who they are . \\n\", b'do we really need to see it over and over again ? \\n', b'how about giving us different scenes offering further insight into all of the strangeness going down in the movie ? \\n', b'apparently , the studio took this film away from its director and chopped it up themselves , and it shows . \\n', b'there might\\'ve been a pretty decent teen mind-fuck movie in here somewhere , but i guess \" the suits \" decided that turning it into a music video with little edge , would make more sense . \\n', b'the actors are pretty good for the most part , although wes bentley just seemed to be playing the exact same character that he did in american beauty , only in a new neighborhood . \\n', b\"but my biggest kudos go out to sagemiller , who holds her own throughout the entire film , and actually has you feeling her character's unraveling . \\n\", b\"overall , the film doesn't stick because it doesn't entertain , it's confusing , it rarely excites and it feels pretty redundant for most of its runtime , despite a pretty cool ending and explanation to all of the craziness that came before it . \\n\", b\"oh , and by the way , this is not a horror or teen slasher flick . . . it's \\n\", b'just packaged to look that way because someone is apparently assuming that the genre is still hot with the kids . \\n', b'it also wrapped production two years ago and has been sitting on the shelves ever since . \\n', b'whatever . . . skip \\n', b'it ! \\n', b\"where's joblo coming from ? \\n\", b'a nightmare of elm street 3 ( 7/10 ) - blair witch 2 ( 7/10 ) - the crow ( 9/10 ) - the crow : salvation ( 4/10 ) - lost highway ( 10/10 ) - memento ( 10/10 ) - the others ( 9/10 ) - stir of echoes ( 8/10 ) \\n']\n",
            "[\"b'warning'\", \"b'spoilers'\", \"b'are'\", \"b'included'\", \"b'this'\", \"b'review'\"]\n",
            "[\"b'plot'\", \"b'two'\", \"b'teen'\", \"b'couples'\", \"b'church'\", \"b'party'\", \"b'drink'\", \"b'and'\", \"b'then'\", \"b'drive'\"]\n"
          ],
          "name": "stdout"
        }
      ]
    },
    {
      "cell_type": "code",
      "metadata": {
        "id": "JNXyUnFGJJK8",
        "colab_type": "code",
        "colab": {}
      },
      "source": [
        "##Ngrams for NB classifier\n",
        "pos_ngram=[] #ngram used for probability cal. \n",
        "neg_ngram=[] #ngram used for probability cal. \n",
        "\n",
        "#sentence level n-grams\n",
        "def getNGram(wordlist, n):\n",
        "    ngram = []\n",
        "    for i in range(len(wordlist)-(n-1)):\n",
        "        ngram.append(wordlist[i:i+n])\n",
        "    return ngram\n",
        "\n",
        "#sentence level for making low to high grams\n",
        "def getNGrams(wordlist, low ,high):\n",
        "    ngrams_list = []\n",
        "    for i in range(low,high+1):\n",
        "        ngrams_list.extend(getNGram(wordlist,i))\n",
        "    return ngrams_list\n",
        "\n",
        "for review in pos_reviews_train:\n",
        "  for sentence in pos_reviews_train[review]:\n",
        "    pos_ngram.extend(getNGrams(sentence,1,3))\n",
        "\n",
        "for review in neg_reviews_train:\n",
        "  for sentence in neg_reviews_train[review]:\n",
        "    neg_ngram.extend(getNGrams(sentence,1,3))"
      ],
      "execution_count": 0,
      "outputs": []
    },
    {
      "cell_type": "code",
      "metadata": {
        "id": "ReqjsvJ_8Hqt",
        "colab_type": "code",
        "outputId": "74743966-99af-4fb1-f783-b2348b7d773b",
        "colab": {
          "base_uri": "https://localhost:8080/",
          "height": 89
        }
      },
      "source": [
        "#check\n",
        "print(getNGrams(pos_reviews_train[0][0],1,4))\n",
        "#pos\n",
        "print(pos_ngram[50000:50050])\n",
        "#neg\n",
        "print(neg_ngram[0:10])"
      ],
      "execution_count": 267,
      "outputs": [
        {
          "output_type": "stream",
          "text": [
            "[[\"b'james'\"], [\"b'brooks'\"], [\"b'one'\"], [\"b'the'\"], [\"b'developers'\"], [\"b'the'\"], [\"b'simpsons'\"], [\"b'and'\"], [\"b'director'\"], [\"b'broadcast'\"], [\"b'news'\"], [\"b'returns'\"], [\"b'the'\"], [\"b'big'\"], [\"b'screen'\"], [\"b'with'\"], [\"b'this'\"], [\"b'entertaining'\"], [\"b'slightly'\"], [\"b'flawed'\"], [\"b'comedy'\"], [\"b'james'\", \"b'brooks'\"], [\"b'brooks'\", \"b'one'\"], [\"b'one'\", \"b'the'\"], [\"b'the'\", \"b'developers'\"], [\"b'developers'\", \"b'the'\"], [\"b'the'\", \"b'simpsons'\"], [\"b'simpsons'\", \"b'and'\"], [\"b'and'\", \"b'director'\"], [\"b'director'\", \"b'broadcast'\"], [\"b'broadcast'\", \"b'news'\"], [\"b'news'\", \"b'returns'\"], [\"b'returns'\", \"b'the'\"], [\"b'the'\", \"b'big'\"], [\"b'big'\", \"b'screen'\"], [\"b'screen'\", \"b'with'\"], [\"b'with'\", \"b'this'\"], [\"b'this'\", \"b'entertaining'\"], [\"b'entertaining'\", \"b'slightly'\"], [\"b'slightly'\", \"b'flawed'\"], [\"b'flawed'\", \"b'comedy'\"], [\"b'james'\", \"b'brooks'\", \"b'one'\"], [\"b'brooks'\", \"b'one'\", \"b'the'\"], [\"b'one'\", \"b'the'\", \"b'developers'\"], [\"b'the'\", \"b'developers'\", \"b'the'\"], [\"b'developers'\", \"b'the'\", \"b'simpsons'\"], [\"b'the'\", \"b'simpsons'\", \"b'and'\"], [\"b'simpsons'\", \"b'and'\", \"b'director'\"], [\"b'and'\", \"b'director'\", \"b'broadcast'\"], [\"b'director'\", \"b'broadcast'\", \"b'news'\"], [\"b'broadcast'\", \"b'news'\", \"b'returns'\"], [\"b'news'\", \"b'returns'\", \"b'the'\"], [\"b'returns'\", \"b'the'\", \"b'big'\"], [\"b'the'\", \"b'big'\", \"b'screen'\"], [\"b'big'\", \"b'screen'\", \"b'with'\"], [\"b'screen'\", \"b'with'\", \"b'this'\"], [\"b'with'\", \"b'this'\", \"b'entertaining'\"], [\"b'this'\", \"b'entertaining'\", \"b'slightly'\"], [\"b'entertaining'\", \"b'slightly'\", \"b'flawed'\"], [\"b'slightly'\", \"b'flawed'\", \"b'comedy'\"], [\"b'james'\", \"b'brooks'\", \"b'one'\", \"b'the'\"], [\"b'brooks'\", \"b'one'\", \"b'the'\", \"b'developers'\"], [\"b'one'\", \"b'the'\", \"b'developers'\", \"b'the'\"], [\"b'the'\", \"b'developers'\", \"b'the'\", \"b'simpsons'\"], [\"b'developers'\", \"b'the'\", \"b'simpsons'\", \"b'and'\"], [\"b'the'\", \"b'simpsons'\", \"b'and'\", \"b'director'\"], [\"b'simpsons'\", \"b'and'\", \"b'director'\", \"b'broadcast'\"], [\"b'and'\", \"b'director'\", \"b'broadcast'\", \"b'news'\"], [\"b'director'\", \"b'broadcast'\", \"b'news'\", \"b'returns'\"], [\"b'broadcast'\", \"b'news'\", \"b'returns'\", \"b'the'\"], [\"b'news'\", \"b'returns'\", \"b'the'\", \"b'big'\"], [\"b'returns'\", \"b'the'\", \"b'big'\", \"b'screen'\"], [\"b'the'\", \"b'big'\", \"b'screen'\", \"b'with'\"], [\"b'big'\", \"b'screen'\", \"b'with'\", \"b'this'\"], [\"b'screen'\", \"b'with'\", \"b'this'\", \"b'entertaining'\"], [\"b'with'\", \"b'this'\", \"b'entertaining'\", \"b'slightly'\"], [\"b'this'\", \"b'entertaining'\", \"b'slightly'\", \"b'flawed'\"], [\"b'entertaining'\", \"b'slightly'\", \"b'flawed'\", \"b'comedy'\"]]\n",
            "[[\"b'die'\", \"b'and'\"], [\"b'and'\", \"b'quaid'\"], [\"b'quaid'\", \"b'will'\"], [\"b'will'\", \"b'able'\"], [\"b'able'\", \"b'get'\"], [\"b'get'\", \"b'paid'\"], [\"b'paid'\", \"b'for'\"], [\"b'since'\", \"b'the'\", \"b'last'\"], [\"b'the'\", \"b'last'\", \"b'dragon'\"], [\"b'last'\", \"b'dragon'\", \"b'will'\"], [\"b'dragon'\", \"b'will'\", \"b'pretend'\"], [\"b'will'\", \"b'pretend'\", \"b'die'\"], [\"b'pretend'\", \"b'die'\", \"b'and'\"], [\"b'die'\", \"b'and'\", \"b'quaid'\"], [\"b'and'\", \"b'quaid'\", \"b'will'\"], [\"b'quaid'\", \"b'will'\", \"b'able'\"], [\"b'will'\", \"b'able'\", \"b'get'\"], [\"b'able'\", \"b'get'\", \"b'paid'\"], [\"b'get'\", \"b'paid'\", \"b'for'\"], [\"b'their'\"], [\"b'scam'\"], [\"b'works'\"], [\"b'first'\"], [\"b'until'\"], [\"b'they'\"], [\"b'come'\"], [\"b'town'\"], [\"b'without'\"], [\"b'any'\"], [\"b'money'\"], [\"b'their'\", \"b'scam'\"], [\"b'scam'\", \"b'works'\"], [\"b'works'\", \"b'first'\"], [\"b'first'\", \"b'until'\"], [\"b'until'\", \"b'they'\"], [\"b'they'\", \"b'come'\"], [\"b'come'\", \"b'town'\"], [\"b'town'\", \"b'without'\"], [\"b'without'\", \"b'any'\"], [\"b'any'\", \"b'money'\"], [\"b'their'\", \"b'scam'\", \"b'works'\"], [\"b'scam'\", \"b'works'\", \"b'first'\"], [\"b'works'\", \"b'first'\", \"b'until'\"], [\"b'first'\", \"b'until'\", \"b'they'\"], [\"b'until'\", \"b'they'\", \"b'come'\"], [\"b'they'\", \"b'come'\", \"b'town'\"], [\"b'come'\", \"b'town'\", \"b'without'\"], [\"b'town'\", \"b'without'\", \"b'any'\"], [\"b'without'\", \"b'any'\", \"b'money'\"], [\"b'instead'\"]]\n",
            "[[\"b'warning'\"], [\"b'spoilers'\"], [\"b'are'\"], [\"b'included'\"], [\"b'this'\"], [\"b'review'\"], [\"b'warning'\", \"b'spoilers'\"], [\"b'spoilers'\", \"b'are'\"], [\"b'are'\", \"b'included'\"], [\"b'included'\", \"b'this'\"]]\n"
          ],
          "name": "stdout"
        }
      ]
    },
    {
      "cell_type": "code",
      "metadata": {
        "id": "InLay97DNdmm",
        "colab_type": "code",
        "colab": {}
      },
      "source": [
        "def basic_sentence_predict(sentence):\n",
        "  pos_count=1 #to prevent divide by zero error...pos and neg initilised with 1\n",
        "  neg_count=1\n",
        "  ngrams=getNGrams(sentence,1,3)\n",
        "  for word in ngrams:\n",
        "    if word in pos_ngram:\n",
        "      pos_count+=len(word)\n",
        "    if word in neg_ngram:\n",
        "      neg_count+=len(word)\n",
        "  return [pos_count,neg_count]"
      ],
      "execution_count": 0,
      "outputs": []
    },
    {
      "cell_type": "code",
      "metadata": {
        "id": "XAF_on2Hpln6",
        "colab_type": "code",
        "outputId": "06a2e4eb-6293-4c24-bfa9-f804acd1cb12",
        "colab": {
          "base_uri": "https://localhost:8080/",
          "height": 52
        }
      },
      "source": [
        "#check\n",
        "print(basic_sentence_predict(pos_reviews_test[0][0]))\n",
        "print(basic_sentence_predict(neg_reviews_test[0][0]))"
      ],
      "execution_count": 269,
      "outputs": [
        {
          "output_type": "stream",
          "text": [
            "[71, 89]\n",
            "[17, 17]\n"
          ],
          "name": "stdout"
        }
      ]
    },
    {
      "cell_type": "code",
      "metadata": {
        "id": "InuvqSQNRiC7",
        "colab_type": "code",
        "colab": {}
      },
      "source": [
        "def basic_review_predict(review):\n",
        "  pos_cnt=1\n",
        "  neg_cnt=1\n",
        "  for sentence in review[:]:\n",
        "    temp=basic_sentence_predict(sentence)\n",
        "    pos_cnt+=temp[0]\n",
        "    neg_cnt+=temp[1]\n",
        "    return [pos_cnt*1.0/(pos_cnt+neg_cnt),neg_cnt*1.0/(pos_cnt+neg_cnt)]"
      ],
      "execution_count": 0,
      "outputs": []
    },
    {
      "cell_type": "code",
      "metadata": {
        "id": "MbXHNNF6ppDy",
        "colab_type": "code",
        "outputId": "de230240-8889-4955-ac1d-ccb985ac8412",
        "colab": {
          "base_uri": "https://localhost:8080/",
          "height": 52
        }
      },
      "source": [
        "#checking\n",
        "print(basic_review_predict(pos_reviews_test[0]))\n",
        "print(basic_review_predict(neg_reviews_test[1]))"
      ],
      "execution_count": 302,
      "outputs": [
        {
          "output_type": "stream",
          "text": [
            "[0.4444444444444444, 0.5555555555555556]\n",
            "[0.46236559139784944, 0.5376344086021505]\n"
          ],
          "name": "stdout"
        }
      ]
    },
    {
      "cell_type": "code",
      "metadata": {
        "id": "_cKNm2TaTJfX",
        "colab_type": "code",
        "colab": {}
      },
      "source": [
        "def basic_senti_predict():\n",
        "  correct=0\n",
        "  incorrect=0\n",
        "  for review in pos_reviews_test:\n",
        "    temp=basic_review_predict(pos_reviews_test[review])\n",
        "    if(temp[0]>temp[1]):\n",
        "      correct+=1\n",
        "    else:\n",
        "      incorrect+=1\n",
        "  #print(correct, \" \", incorrect)\n",
        "  for review in neg_reviews_test:\n",
        "    temp=basic_review_predict(neg_reviews_test[review])\n",
        "    if(temp[0]<temp[1]):\n",
        "      correct+=1\n",
        "    else:\n",
        "      incorrect+=1 \n",
        "  return correct*1.0/(correct+incorrect)"
      ],
      "execution_count": 0,
      "outputs": []
    },
    {
      "cell_type": "code",
      "metadata": {
        "id": "Qa_-sEdQUD15",
        "colab_type": "code",
        "outputId": "5c565b20-c884-456f-dbe6-1115641bcda0",
        "colab": {
          "base_uri": "https://localhost:8080/",
          "height": 34
        }
      },
      "source": [
        "print(\"Accuracy bybasic NB classifier is \", basic_senti_predict())"
      ],
      "execution_count": 304,
      "outputs": [
        {
          "output_type": "stream",
          "text": [
            "Accuracy bybasic NB classifier is  0.595\n"
          ],
          "name": "stdout"
        }
      ]
    },
    {
      "cell_type": "code",
      "metadata": {
        "id": "vniUA5wTUTfv",
        "colab_type": "code",
        "colab": {}
      },
      "source": [
        "#hence it can be seen a basic NB classifier...\n",
        "#now let's adopt graph cut in this model"
      ],
      "execution_count": 0,
      "outputs": []
    },
    {
      "cell_type": "code",
      "metadata": {
        "id": "hV7xGDveVAAz",
        "colab_type": "code",
        "colab": {}
      },
      "source": [
        "def assoc(sentence1,sentence2): #to find similarity between two sentences\n",
        "  ngrams1 = getNGrams(sentence1,1,3)\n",
        "  ngrams2 = getNGrams(sentence2,1,3)\n",
        "  common = [ngram for ngram in ngrams1 if ngram in ngrams2] \n",
        "  w1=sentence1\n",
        "  w2=sentence2\n",
        "  cmmn_wrds=[word for word in w1 if word in w2]\n",
        "  if max(len(ngrams1),len(ngrams2))+len(cmmn_wrds)/max(len(w1),len(w2))>=1:\n",
        "    temp=len(common)/max(len(ngrams1),len(ngrams2))+len(cmmn_wrds)/max(len(w1),len(w2))\n",
        "  else:\n",
        "    temp=1\n",
        "  if temp>1: #highly similar sentences\n",
        "    return 1\n",
        "  return temp"
      ],
      "execution_count": 0,
      "outputs": []
    },
    {
      "cell_type": "code",
      "metadata": {
        "id": "TOtf0lZ2WgGi",
        "colab_type": "code",
        "outputId": "f10ac102-5ed0-4c98-b263-0363205d5edf",
        "colab": {
          "base_uri": "https://localhost:8080/",
          "height": 86
        }
      },
      "source": [
        "print(assoc(\"boy whats up\".split(),\"boy whats up\".split()))\n",
        "print(assoc(\"hey there buddy\".split(), \"hey my boi\".split()))\n",
        "print(assoc(pos_reviews_test[0][0], pos_reviews_test[0][1]))\n",
        "print(assoc(pos_reviews_test[0][0], neg_reviews_test[0][1]))"
      ],
      "execution_count": 358,
      "outputs": [
        {
          "output_type": "stream",
          "text": [
            "1\n",
            "0.5\n",
            "0.0373015873015873\n",
            "0.0\n"
          ],
          "name": "stdout"
        }
      ]
    },
    {
      "cell_type": "code",
      "metadata": {
        "id": "5CYLJyv0WoHQ",
        "colab_type": "code",
        "colab": {}
      },
      "source": [
        "#assign all 9 parameters to from graph\n",
        "def form_graph(s1, s2, s3): #s1, s2, s3 are three sentences\n",
        "  temp_s1=basic_sentence_predict(s1)\n",
        "  temp_s2=basic_sentence_predict(s2)\n",
        "  temp_s3=basic_sentence_predict(s3)\n",
        "  ind1_s1=temp_s1[0] #0\n",
        "  ind1_s2=temp_s2[0] #1\n",
        "  ind1_s3=temp_s3[0] #2\n",
        "  ind2_s1=temp_s1[1] #3\n",
        "  ind2_s2=temp_s2[1] #4\n",
        "  ind2_s3=temp_s3[1] #5\n",
        "  assoc_s1_s2=assoc(s1,s2) #6\n",
        "  assoc_s2_s3=assoc(s2,s3) #7\n",
        "  assoc_s3_s1=assoc(s1,s3) #8\n",
        "  return [ind1_s1, ind1_s2, ind1_s3, ind2_s1, ind2_s2, ind2_s3, assoc_s1_s2, assoc_s2_s3, assoc_s3_s1]"
      ],
      "execution_count": 0,
      "outputs": []
    },
    {
      "cell_type": "code",
      "metadata": {
        "id": "Ofg8QNM_ZqGG",
        "colab_type": "code",
        "outputId": "e57d436c-8dc0-40aa-f559-07a8bab7eabf",
        "colab": {
          "base_uri": "https://localhost:8080/",
          "height": 34
        }
      },
      "source": [
        "print(form_graph(pos_reviews_test[0][0],neg_reviews_test[0][0],neg_reviews_test[0][1]))"
      ],
      "execution_count": 342,
      "outputs": [
        {
          "output_type": "stream",
          "text": [
            "[71, 17, 12, 89, 17, 12, 0.0, 0.0, 0.0]\n"
          ],
          "name": "stdout"
        }
      ]
    },
    {
      "cell_type": "code",
      "metadata": {
        "id": "UKNTZx1cbGW_",
        "colab_type": "code",
        "colab": {}
      },
      "source": [
        "import numpy as np\n",
        "def min_graph_cut(s1,s2,s3): #returns [no_pos_sentences, no_neg_sentences]\n",
        "  vals=form_graph(s1,s2,s3)\n",
        "  costs=np.array([0,0,0,0,0,0,0,0]) # cost = individual penalties + association penalties\n",
        "  #c1={none}      => [000] => 0\n",
        "  costs[0]=vals[0]+vals[1]+vals[2]\n",
        "  #c1={s3}        => [001] => 1\n",
        "  costs[1]=vals[0]+vals[1]+vals[5]+vals[7]+vals[8]\n",
        "  #c1={s2}        => [010] => 2\n",
        "  costs[2]=vals[0]+vals[2]+vals[4]+vals[6]+vals[7]\n",
        "  #c1={s2,s3}     => [011] => 3 \n",
        "  costs[3]=vals[4]+vals[5]+vals[0]+vals[6]+vals[8]\n",
        "  #c1={s1}        => [100] => 4  \n",
        "  costs[4]=vals[3]+vals[1]+vals[2]+vals[6]+vals[8]\n",
        "  #c1={s1,s3}     => [101] => 5\n",
        "  costs[5]=vals[3]+vals[1]+vals[5]+vals[6]+vals[7]\n",
        "  #c1={s1,s2}     => [110] => 6\n",
        "  costs[6]=vals[3]+vals[4]+vals[2]+vals[7]+vals[8]\n",
        "  #c1={s1,s2, s3} => [111] => 7\n",
        "  costs[7]=vals[3]+vals[4]+vals[5]\n",
        "  min_poss=np.where(costs == costs.min())\n",
        "  #TO-FIX: 420=======================================================================> \n",
        "  min_pos=min_poss[0][0]\n",
        "  #print(costs)\n",
        "  #print(min_pos)\n",
        "  if min_pos==0:\n",
        "    return [0,3]\n",
        "  if min_pos>=1 and min_pos<=2:\n",
        "    return [1,2]\n",
        "  if min_pos>=3 and min_pos<=6:\n",
        "    return [2,1]\n",
        "  if min_pos==7:\n",
        "    return [3,0]"
      ],
      "execution_count": 0,
      "outputs": []
    },
    {
      "cell_type": "code",
      "metadata": {
        "id": "guYXEoZ7ve09",
        "colab_type": "code",
        "colab": {
          "base_uri": "https://localhost:8080/",
          "height": 34
        },
        "outputId": "ce279b4a-778f-4b82-a4bf-b14e979bc6b0"
      },
      "source": [
        "print(min_graph_cut(pos_reviews_test[0][0],pos_reviews_test[0][1],pos_reviews_test[0][2]))"
      ],
      "execution_count": 345,
      "outputs": [
        {
          "output_type": "stream",
          "text": [
            "[2, 1]\n"
          ],
          "name": "stdout"
        }
      ]
    },
    {
      "cell_type": "code",
      "metadata": {
        "id": "EYYCmcYSkBAq",
        "colab_type": "code",
        "colab": {}
      },
      "source": [
        "def review_lvl_graph(review):\n",
        "  pos_chance=0\n",
        "  neg_chance=0\n",
        "  #for i in range(len(review)): \n",
        "  for i in range(5): #using only top 6 sentences of review (As they contain ennough features.. Also to boost the performance)\n",
        "    if(i<=len(review)-3):\n",
        "      temp=min_graph_cut(review[i],review[i+1],review[i+2])\n",
        "      i+=2\n",
        "      pos_chance+=temp[0]\n",
        "      neg_chance+=temp[1]\n",
        "  return [pos_chance/(pos_chance+neg_chance),neg_chance/(pos_chance+neg_chance)]"
      ],
      "execution_count": 0,
      "outputs": []
    },
    {
      "cell_type": "code",
      "metadata": {
        "id": "KyJKFCcwlzZA",
        "colab_type": "code",
        "outputId": "8ac663c4-d661-4bbb-c5c7-40811dcf86b2",
        "colab": {
          "base_uri": "https://localhost:8080/",
          "height": 121
        }
      },
      "source": [
        "print(len(pos_reviews_test[50]))\n",
        "print(review_lvl_graph(pos_reviews_test[0]),\"\\n\\n\")\n",
        "\n",
        "print(len(neg_reviews_test[51]))\n",
        "print(review_lvl_graph(neg_reviews_test[0]))"
      ],
      "execution_count": 347,
      "outputs": [
        {
          "output_type": "stream",
          "text": [
            "28\n",
            "[0.4, 0.6] \n",
            "\n",
            "\n",
            "30\n",
            "[0.06666666666666667, 0.9333333333333333]\n"
          ],
          "name": "stdout"
        }
      ]
    },
    {
      "cell_type": "code",
      "metadata": {
        "id": "W39B4K7vl38X",
        "colab_type": "code",
        "colab": {}
      },
      "source": [
        "#predict based on graph cut\n",
        "from google.colab import output #to clear output log\n",
        "from functools import lru_cache as cache #to 80x accelerate the function by caching it\n",
        "import multiprocessing as mp\n",
        "p=mp.Pool(16) #using multicores of TPU to accelerate the speed of function execution\n",
        "\n",
        "def predict_graph_cut(data_ip, data_label):\n",
        "  correct_cnt=0\n",
        "  wrong_cnt=0\n",
        "  len1=len(data_ip)\n",
        "  \n",
        "  for item in data_ip:\n",
        "    print('Test Check: ', item+1,\"/\",len1)\n",
        "    if correct_cnt!=0 or wrong_cnt!=0:\n",
        "      print(\"Current Accuracy is \", correct_cnt/(correct_cnt+wrong_cnt))\n",
        "    temp1=review_lvl_graph(data_ip[item])\n",
        "    if data_label=='pos':\n",
        "      if(temp1[0]>temp1[1]): #as it is +ve sentence \n",
        "        correct_cnt+=1\n",
        "      if(temp1[0]<temp1[1]):\n",
        "        wrong_cnt+=1\n",
        "    if data_label=='neg':\n",
        "      if(temp1[1]>temp1[0]): #as it is -ve sentence\n",
        "        correct_cnt+=1\n",
        "      if(temp1[1]<temp1[0]):\n",
        "        wrong_cnt+=1\n",
        "    output.clear() #clears the output log\n",
        "  return correct_cnt/(correct_cnt+wrong_cnt)"
      ],
      "execution_count": 0,
      "outputs": []
    },
    {
      "cell_type": "code",
      "metadata": {
        "id": "eSPE41OXqLSY",
        "colab_type": "code",
        "colab": {}
      },
      "source": [
        "pos_acc=predict_graph_cut(pos_reviews_test,'pos')"
      ],
      "execution_count": 0,
      "outputs": []
    },
    {
      "cell_type": "code",
      "metadata": {
        "id": "CKATXZC237nL",
        "colab_type": "code",
        "colab": {}
      },
      "source": [
        "neg_acc=predict_graph_cut(neg_reviews_test,'neg')"
      ],
      "execution_count": 0,
      "outputs": []
    },
    {
      "cell_type": "code",
      "metadata": {
        "id": "_hWMfu6LxiCB",
        "colab_type": "code",
        "colab": {
          "base_uri": "https://localhost:8080/",
          "height": 34
        },
        "outputId": "81c54850-634e-47db-ba7b-90d767289e98"
      },
      "source": [
        "print(\"Overall Accuraccy: \", (pos_acc+neg_acc)/2) #equal data so avg gives net acc."
      ],
      "execution_count": 360,
      "outputs": [
        {
          "output_type": "stream",
          "text": [
            "Overall Accuraccy:  0.6834848484848486\n"
          ],
          "name": "stdout"
        }
      ]
    },
    {
      "cell_type": "code",
      "metadata": {
        "id": "eVy62Y_tl2GZ",
        "colab_type": "code",
        "colab": {}
      },
      "source": [
        ""
      ],
      "execution_count": 0,
      "outputs": []
    }
  ]
}