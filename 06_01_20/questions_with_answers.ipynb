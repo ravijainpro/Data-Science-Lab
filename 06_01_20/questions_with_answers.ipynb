{
 "cells": [
  {
   "cell_type": "code",
   "execution_count": 43,
   "metadata": {},
   "outputs": [
    {
     "name": "stdout",
     "output_type": "stream",
     "text": [
      "Day    Mon Tue Wed Thur Fri\n",
      "Period                     \n",
      "1       C1  C2  C3   C4  C5\n",
      "2       C2  C3  C4   C5  C1\n",
      "3       C3  C4  C5   C1  C2\n",
      "4       C4  C5  C1   C2  C3\n",
      "5       C5  C1  C2   C3  C4\n"
     ]
    }
   ],
   "source": [
    "\"\"\"\n",
    "Q1> Create a time table using data.csv.\n",
    "Method 1\n",
    "\"\"\"\n",
    "import pandas as pd\n",
    "df=pd.read_csv('data1.csv',names=['Day','Period','Class'])\n",
    "df2=df.pivot(index='Period',columns='Day',values='Class')\n",
    "df3=df2.sort_values(by ='Period', ascending = 1) \n",
    "df3.columns = df3.columns.str[1:]\n",
    "print(df3)"
   ]
  },
  {
   "cell_type": "code",
   "execution_count": 51,
   "metadata": {},
   "outputs": [
    {
     "name": "stdout",
     "output_type": "stream",
     "text": [
      "Period   1   2   3   4   5\n",
      "Day                       \n",
      "Mon     C1  C2  C3  C4  C5\n",
      "Tue     C2  C3  C4  C5  C1\n",
      "Wed     C3  C4  C5  C1  C2\n",
      "Thur    C4  C5  C1  C2  C3\n",
      "Fri     C5  C1  C2  C3  C4\n"
     ]
    }
   ],
   "source": [
    "\"\"\"\n",
    "Q1> Create a time table using data.csv. \n",
    "Method 2\n",
    "\"\"\"\n",
    "import pandas as pd\n",
    "df=pd.read_csv('data11.csv',names=['Day','Period','Class'])\n",
    "df2=df.pivot(index='Day',columns='Period',values='Class')\n",
    "df3=df2.reindex(['Mon','Tue','Wed','Thur','Fri'])\n",
    "print(df3)"
   ]
  },
  {
   "cell_type": "code",
   "execution_count": 157,
   "metadata": {},
   "outputs": [
    {
     "name": "stdout",
     "output_type": "stream",
     "text": [
      "       1   2   3   4   5\n",
      "Mon   C1  C2  C3  C4  C5\n",
      "Tue   C2  C3  C4  C5  C1\n",
      "Wed   C3  C4  C5  C1  C2\n",
      "Thur  C4  C5  C1  C2  C3\n",
      "Fri   C5  C1  C2  C3  C4\n"
     ]
    }
   ],
   "source": [
    "\"\"\"\n",
    "Q1> Create a time table using data.csv. \n",
    "Method 3 (accepted by sir)\n",
    "\"\"\"\n",
    "import pandas as pd\n",
    "import numpy as np\n",
    "colnames=['day','period','subject']\n",
    "df=pd.read_csv('data11.csv',names=colnames)\n",
    "df=df.sort_values(by=['day','period'])\n",
    "days=df['day'].unique().tolist()\n",
    "periods=df['period'].unique().tolist()\n",
    "subjects=df['subject'].values.tolist()\n",
    "subjects=np.asarray(subjects)\n",
    "subjects=subjects.reshape(len(days),len(periods))\n",
    "df2=pd.DataFrame(subjects,index=days,columns=periods)\n",
    "df3=df2.reindex(['Mon','Tue','Wed','Thur','Fri'])\n",
    "print(df3)"
   ]
  },
  {
   "cell_type": "code",
   "execution_count": 134,
   "metadata": {},
   "outputs": [
    {
     "name": "stdout",
     "output_type": "stream",
     "text": [
      "            Name  Salary Designation Supervisor\n",
      "Department                                     \n",
      "Dep1        Emp1   25000     Manager        NaN\n",
      "Dep1        Emp3   20000       Clerk       Emp1\n",
      "Dep2        Emp2   30000     Manager        NaN\n",
      "Dep2        Emp6    3000       Clerk       Emp2\n"
     ]
    }
   ],
   "source": [
    "\"\"\"\n",
    "Q2>  Top 3 employees in every department\n",
    "\"\"\"\n",
    "import pandas as pd\n",
    "df=pd.read_csv('data2.csv',names=['Name','Department','Salary','Designation','Supervisor'])\n",
    "df2=df.sort_values(by=['Department','Salary'],ascending = [False,False])\n",
    "df3=df2.groupby('Department').head(2).sort_values(by='Department').set_index('Department')\n",
    "print(df3)"
   ]
  },
  {
   "cell_type": "code",
   "execution_count": 158,
   "metadata": {},
   "outputs": [
    {
     "name": "stdout",
     "output_type": "stream",
     "text": [
      "\n",
      " Emp1\n",
      " \t Emp3  \n",
      " \t\t Emp5  \n",
      " \t Emp4  \n",
      "\n",
      " Emp2\n",
      " \t Emp6  \n"
     ]
    }
   ],
   "source": [
    "\"\"\"\n",
    "Q3> Emp and their sub-employees...recursively\n",
    "\"\"\"\n",
    "\n",
    "import pandas as pd\n",
    "df=pd.read_csv('data2.csv',names=['Name','Department','Salary','Designation','Supervisor'])\n",
    "man_df=df.loc[df['Designation'] == 'Manager']\n",
    "man_name=np.asarray(man_df['Name'])\n",
    "def fun(x, rank):\n",
    "    if(x in np.asarray(df['Supervisor'])):\n",
    "        df2=df.loc[df['Supervisor']==x]\n",
    "        df3=np.asarray(df2['Name'])\n",
    "        tabs = ' '\n",
    "        rank+=1\n",
    "        for z in range(0,rank):\n",
    "            tabs = tabs + '\\t'\n",
    "        for i in range(0,len(df3)):\n",
    "            print(tabs,df3[i],' ')\n",
    "            fun(df3[i], rank)\n",
    "            \n",
    "for j in range(0,len(man_name)):\n",
    "    print('\\n',man_name[j])\n",
    "    fun(man_name[j], 0)"
   ]
  },
  {
   "cell_type": "code",
   "execution_count": 28,
   "metadata": {},
   "outputs": [
    {
     "ename": "SyntaxError",
     "evalue": "invalid syntax (<ipython-input-28-ceafcfc5b9f4>, line 7)",
     "output_type": "error",
     "traceback": [
      "\u001b[1;36m  File \u001b[1;32m\"<ipython-input-28-ceafcfc5b9f4>\"\u001b[1;36m, line \u001b[1;32m7\u001b[0m\n\u001b[1;33m    global visited = ['1']\u001b[0m\n\u001b[1;37m                   ^\u001b[0m\n\u001b[1;31mSyntaxError\u001b[0m\u001b[1;31m:\u001b[0m invalid syntax\n"
     ]
    }
   ],
   "source": [
    "\"\"\"\n",
    "Q4> Finding cyclic relations \n",
    "\"\"\"\n",
    "import pandas as pd\n",
    "import numpy as np\n",
    "df=pd.read_csv('data3.csv',names=['col1','col2'])\n",
    "global visited = []\n",
    "def fun(y):\n",
    "    print(y)\n",
    "    if(y not in visited):\n",
    "        print('iff')\n",
    "        visited+=y\n",
    "        len+=1\n",
    "        if(y in np.asarray(df['col1'])):\n",
    "            loc=df[df['col1']==y]\n",
    "            loc1=np.asarray(loc['col2'])\n",
    "            loc2=loc1[0]\n",
    "            fun(loc2)\n",
    "        else:\n",
    "            return 'no'\n",
    "    else:\n",
    "        return y\n",
    "for item in np.asarray(df['col1']):\n",
    "    item1=df[df['col1']==item]\n",
    "    item2=np.asarray(item1['col1'])\n",
    "    item3=item2[0]\n",
    "    print(item3)\n",
    "    if(fun(item3)==item3):\n",
    "        print('wow')\n",
    "        break\n",
    "print(visited)\n",
    "print(df)"
   ]
  },
  {
   "cell_type": "code",
   "execution_count": null,
   "metadata": {},
   "outputs": [],
   "source": []
  }
 ],
 "metadata": {
  "kernelspec": {
   "display_name": "Python 3",
   "language": "python",
   "name": "python3"
  },
  "language_info": {
   "codemirror_mode": {
    "name": "ipython",
    "version": 3
   },
   "file_extension": ".py",
   "mimetype": "text/x-python",
   "name": "python",
   "nbconvert_exporter": "python",
   "pygments_lexer": "ipython3",
   "version": "3.7.3"
  }
 },
 "nbformat": 4,
 "nbformat_minor": 2
}
