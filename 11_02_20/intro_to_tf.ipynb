{
  "nbformat": 4,
  "nbformat_minor": 0,
  "metadata": {
    "colab": {
      "name": "intro_to_tf.ipynb",
      "provenance": [],
      "collapsed_sections": [],
      "authorship_tag": "ABX9TyNFZzXrPRAK5z+rG6vxDErr"
    },
    "kernelspec": {
      "name": "python3",
      "display_name": "Python 3"
    }
  },
  "cells": [
    {
      "cell_type": "code",
      "metadata": {
        "id": "5MyTMT8Ntb0H",
        "colab_type": "code",
        "colab": {}
      },
      "source": [
        "import tensorflow.compat.v1 as tf\n",
        "tf.disable_eager_execution()\n",
        "import numpy as np"
      ],
      "execution_count": 0,
      "outputs": []
    },
    {
      "cell_type": "code",
      "metadata": {
        "id": "PEMrFA_AtqOy",
        "colab_type": "code",
        "colab": {
          "base_uri": "https://localhost:8080/",
          "height": 573
        },
        "outputId": "87f01e9c-8c9f-4876-e2d7-f3c0f5e81086"
      },
      "source": [
        "#fibonacci-series \n",
        "a = tf.Variable(1,tf.int32)\n",
        "b = tf.Variable(1,tf.int32)\n",
        "temp = tf.Variable(1,tf.int32)\n",
        "\n",
        "assign1 = tf.assign(temp,a)\n",
        "assign2 = tf.assign(a,b)\n",
        "assign3 = tf.assign(b,temp+b)\n",
        "\n",
        "with tf.Session() as sess:\n",
        "    sess.run(tf.initialize_all_variables())\n",
        "    print(a.eval())\n",
        "    print(b.eval())\n",
        "    for i in range(0,10):\n",
        "        print(sess.run(assign1))\n",
        "        print(sess.run(assign2))\n",
        "        print(sess.run(assign3))"
      ],
      "execution_count": 6,
      "outputs": [
        {
          "output_type": "stream",
          "text": [
            "1\n",
            "1\n",
            "1\n",
            "1\n",
            "2\n",
            "1\n",
            "2\n",
            "3\n",
            "2\n",
            "3\n",
            "5\n",
            "3\n",
            "5\n",
            "8\n",
            "5\n",
            "8\n",
            "13\n",
            "8\n",
            "13\n",
            "21\n",
            "13\n",
            "21\n",
            "34\n",
            "21\n",
            "34\n",
            "55\n",
            "34\n",
            "55\n",
            "89\n",
            "55\n",
            "89\n",
            "144\n"
          ],
          "name": "stdout"
        }
      ]
    },
    {
      "cell_type": "code",
      "metadata": {
        "id": "6iWyUiZ3vyiy",
        "colab_type": "code",
        "colab": {}
      },
      "source": [
        ""
      ],
      "execution_count": 0,
      "outputs": []
    }
  ]
}