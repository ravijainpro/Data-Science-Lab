{
  "nbformat": 4,
  "nbformat_minor": 0,
  "metadata": {
    "colab": {
      "name": "intro_to_tf.ipynb",
      "provenance": [],
      "collapsed_sections": [],
      "authorship_tag": "ABX9TyNi6CmfTnDjgSnP3Sxn96gQ"
    },
    "kernelspec": {
      "name": "python3",
      "display_name": "Python 3"
    }
  },
  "cells": [
    {
      "cell_type": "code",
      "metadata": {
        "id": "5MyTMT8Ntb0H",
        "colab_type": "code",
        "colab": {}
      },
      "source": [
        "import tensorflow.compat.v1 as tf\n",
        "tf.disable_eager_execution()\n",
        "import numpy as np"
      ],
      "execution_count": 0,
      "outputs": []
    },
    {
      "cell_type": "code",
      "metadata": {
        "id": "PEMrFA_AtqOy",
        "colab_type": "code",
        "colab": {
          "base_uri": "https://localhost:8080/",
          "height": 573
        },
        "outputId": "87f01e9c-8c9f-4876-e2d7-f3c0f5e81086"
      },
      "source": [
        "#fibonacci-series \n",
        "a = tf.Variable(1,tf.int32)\n",
        "b = tf.Variable(1,tf.int32)\n",
        "temp = tf.Variable(1,tf.int32)\n",
        "\n",
        "assign1 = tf.assign(temp,a)\n",
        "assign2 = tf.assign(a,b)\n",
        "assign3 = tf.assign(b,temp+b)\n",
        "\n",
        "with tf.Session() as sess:\n",
        "    sess.run(tf.initialize_all_variables())\n",
        "    print(a.eval())\n",
        "    print(b.eval())\n",
        "    for i in range(0,10):\n",
        "        print(sess.run(assign1))\n",
        "        print(sess.run(assign2))\n",
        "        print(sess.run(assign3))"
      ],
      "execution_count": 6,
      "outputs": [
        {
          "output_type": "stream",
          "text": [
            "1\n",
            "1\n",
            "1\n",
            "1\n",
            "2\n",
            "1\n",
            "2\n",
            "3\n",
            "2\n",
            "3\n",
            "5\n",
            "3\n",
            "5\n",
            "8\n",
            "5\n",
            "8\n",
            "13\n",
            "8\n",
            "13\n",
            "21\n",
            "13\n",
            "21\n",
            "34\n",
            "21\n",
            "34\n",
            "55\n",
            "34\n",
            "55\n",
            "89\n",
            "55\n",
            "89\n",
            "144\n"
          ],
          "name": "stdout"
        }
      ]
    },
    {
      "cell_type": "code",
      "metadata": {
        "id": "6iWyUiZ3vyiy",
        "colab_type": "code",
        "colab": {
          "base_uri": "https://localhost:8080/",
          "height": 732
        },
        "outputId": "909ba19d-944b-4372-f727-f4bd16534208"
      },
      "source": [
        "#optimizer use\n",
        "import tensorflow.compat.v1 as tf\n",
        "tf.disable_v2_behavior()\n",
        "import numpy as np\n",
        "n_samples=1000\n",
        "n_dims=10\n",
        "X_data=np.random.rand(n_samples,n_dims)\n",
        "Tw=np.random.rand(n_dims,1)\n",
        "Y_data=np.matmul(X_data,Tw)+np.random.rand(n_samples,1) #adding bias to each row of dataset\n",
        "print(Y_data[:2])\n",
        "print(Tw)\n",
        "batch_size=100\n",
        "X=tf.placeholder(tf.float32,shape=(batch_size,n_dims))\n",
        "Y=tf.placeholder(tf.float32,shape=(batch_size,1))\n",
        "W=tf.Variable(np.random.rand(n_dims,1),dtype=tf.float32)\n",
        "Y_hat=tf.matmul(X,W)\n",
        "loss=tf.reduce_mean((Y-Y_hat)**2/n_samples) #single scalar loss value\n",
        "optimizer=tf.train.AdamOptimizer().minimize(loss)\n",
        "with tf.Session() as sess:\n",
        "    sess.run(tf.global_variables_initializer())\n",
        "    for i in range(10000):\n",
        "        indices=np.random.choice(n_samples,batch_size)\n",
        "        X_batch=X_data[indices] #subsetting\n",
        "        Y_batch=Y_data[indices]\n",
        "        e,error,weight=sess.run([optimizer,loss,W],feed_dict={X:X_batch,Y:Y_batch})\n",
        "        if i%5000==0:\n",
        "            print(error)\n",
        "            print(weight)"
      ],
      "execution_count": 7,
      "outputs": [
        {
          "output_type": "stream",
          "text": [
            "WARNING:tensorflow:From /usr/local/lib/python3.6/dist-packages/tensorflow_core/python/compat/v2_compat.py:68: disable_resource_variables (from tensorflow.python.ops.variable_scope) is deprecated and will be removed in a future version.\n",
            "Instructions for updating:\n",
            "non-resource variables are not supported in the long term\n",
            "[[3.53876152]\n",
            " [3.33963414]]\n",
            "[[0.97789851]\n",
            " [0.95276515]\n",
            " [0.16399433]\n",
            " [0.45261245]\n",
            " [0.60351509]\n",
            " [0.01478087]\n",
            " [0.24310971]\n",
            " [0.70918211]\n",
            " [0.60425362]\n",
            " [0.73225885]]\n",
            "WARNING:tensorflow:From /usr/local/lib/python3.6/dist-packages/tensorflow_core/python/ops/math_grad.py:1375: where (from tensorflow.python.ops.array_ops) is deprecated and will be removed in a future version.\n",
            "Instructions for updating:\n",
            "Use tf.where in 2.0, which has the same broadcast rule as np.where\n",
            "0.00027839822\n",
            "[[0.22255766]\n",
            " [0.8999582 ]\n",
            " [0.7409876 ]\n",
            " [0.96946627]\n",
            " [0.24587756]\n",
            " [0.70865583]\n",
            " [0.9869483 ]\n",
            " [0.6801644 ]\n",
            " [0.31898198]\n",
            " [0.5063618 ]]\n",
            "0.0001169526\n",
            "[[1.1003811 ]\n",
            " [0.9941399 ]\n",
            " [0.27978998]\n",
            " [0.59001505]\n",
            " [0.7006757 ]\n",
            " [0.12001094]\n",
            " [0.31085   ]\n",
            " [0.7911778 ]\n",
            " [0.7142562 ]\n",
            " [0.8089591 ]]\n"
          ],
          "name": "stdout"
        }
      ]
    },
    {
      "cell_type": "code",
      "metadata": {
        "id": "SWpUGzia0Ib1",
        "colab_type": "code",
        "colab": {}
      },
      "source": [
        ""
      ],
      "execution_count": 0,
      "outputs": []
    }
  ]
}