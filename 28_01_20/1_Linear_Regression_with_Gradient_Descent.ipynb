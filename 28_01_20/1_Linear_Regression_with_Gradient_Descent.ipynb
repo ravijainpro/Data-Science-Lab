{
  "nbformat": 4,
  "nbformat_minor": 0,
  "metadata": {
    "colab": {
      "name": "Linear Regression with Gradient Descent.ipynb",
      "provenance": [],
      "collapsed_sections": [],
      "authorship_tag": "ABX9TyNgqMipZP4KZI9xjiX0dvaM",
      "include_colab_link": true
    },
    "kernelspec": {
      "name": "python3",
      "display_name": "Python 3"
    }
  },
  "cells": [
    {
      "cell_type": "markdown",
      "metadata": {
        "id": "view-in-github",
        "colab_type": "text"
      },
      "source": [
        "<a href=\"https://colab.research.google.com/github/ravijainpro/Data-Science-Lab/blob/master/28_01_20/1_Linear_Regression_with_Gradient_Descent.ipynb\" target=\"_parent\"><img src=\"https://colab.research.google.com/assets/colab-badge.svg\" alt=\"Open In Colab\"/></a>"
      ]
    },
    {
      "cell_type": "code",
      "metadata": {
        "id": "okySKym_geXO",
        "colab_type": "code",
        "colab": {}
      },
      "source": [
        "import numpy as np\n",
        "import tensorflow as tf\n",
        "import matplotlib.pyplot as plt\n",
        "\n",
        "def generate_dataset():\n",
        " x_batch = np.linspace(0, 2, 100)\n",
        " y_batch = 1.5 * x_batch + np.random.randn(*x_batch.shape) * 0.2 + 0.5\n",
        " return x_batch, y_batch"
      ],
      "execution_count": 0,
      "outputs": []
    },
    {
      "cell_type": "code",
      "metadata": {
        "id": "Q2GQK8rSuygt",
        "colab_type": "code",
        "colab": {}
      },
      "source": [
        "def linear_regression():\n",
        "  x = tf.placeholder(tf.float32, shape=(None, ), name='x')\n",
        "  y = tf.placeholder(tf.float32, shape=(None, ), name='y')\n",
        "\n",
        "  with tf.variable_scope('lreg') as scope:\n",
        "    w = tf.Variable(np.random.normal(), name='W')\n",
        "    b = tf.Variable(np.random.normal(), name='b')\n",
        "\t\t\n",
        "    y_pred = tf.add(tf.multiply(w, x), b)\n",
        "\n",
        "    loss = tf.reduce_mean(tf.square(y_pred - y))\n",
        "\n",
        "  return x, y, y_pred, loss"
      ],
      "execution_count": 0,
      "outputs": []
    },
    {
      "cell_type": "code",
      "metadata": {
        "id": "Ei3bjJqSvV4c",
        "colab_type": "code",
        "colab": {
          "base_uri": "https://localhost:8080/",
          "height": 807
        },
        "outputId": "89e672f8-4f07-4473-8005-da2314c67406"
      },
      "source": [
        "def run():\n",
        "  x_batch, y_batch = generate_dataset()\n",
        "  x, y, y_pred, loss = linear_regression()\n",
        "\n",
        "  optimizer = tf.train.GradientDescentOptimizer(0.1)\n",
        "  train_op = optimizer.minimize(loss)\n",
        "\n",
        "  with tf.Session() as session:\n",
        "    session.run(tf.global_variables_initializer())\n",
        "    feed_dict = {x: x_batch, y: y_batch}\n",
        "\t\t\n",
        "    for i in range(30):\n",
        "      session.run(train_op, feed_dict)\n",
        "      print(i, \"loss:\", loss.eval(feed_dict))\n",
        "\n",
        "    print('Predicting')\n",
        "    y_pred_batch = session.run(y_pred, {x : x_batch})\n",
        "\n",
        "  plt.scatter(x_batch, y_batch)\n",
        "  plt.plot(x_batch, y_pred_batch, color='red')\n",
        "  plt.xlim(0, 2)\n",
        "  plt.ylim(0, 2)\n",
        "  plt.savefig('plot.png')\n",
        "\n",
        "if __name__ == \"__main__\":\n",
        "  run()"
      ],
      "execution_count": 11,
      "outputs": [
        {
          "output_type": "stream",
          "text": [
            "0 loss: 0.04606501\n",
            "1 loss: 0.04002173\n",
            "2 loss: 0.037918378\n",
            "3 loss: 0.03707588\n",
            "4 loss: 0.036643967\n",
            "5 loss: 0.03635235\n",
            "6 loss: 0.036114704\n",
            "7 loss: 0.035903066\n",
            "8 loss: 0.03570803\n",
            "9 loss: 0.0355261\n",
            "10 loss: 0.0353557\n",
            "11 loss: 0.035195857\n",
            "12 loss: 0.03504585\n",
            "13 loss: 0.034905046\n",
            "14 loss: 0.034772884\n",
            "15 loss: 0.034648813\n",
            "16 loss: 0.034532353\n",
            "17 loss: 0.034423042\n",
            "18 loss: 0.034320425\n",
            "19 loss: 0.034224097\n",
            "20 loss: 0.03413368\n",
            "21 loss: 0.034048803\n",
            "22 loss: 0.03396913\n",
            "23 loss: 0.033894338\n",
            "24 loss: 0.033824127\n",
            "25 loss: 0.03375823\n",
            "26 loss: 0.03369637\n",
            "27 loss: 0.033638302\n",
            "28 loss: 0.03358379\n",
            "29 loss: 0.03353262\n",
            "Predicting\n"
          ],
          "name": "stdout"
        },
        {
          "output_type": "display_data",
          "data": {
            "image/png": "[encoded data removed]",
            "text/plain": [
              "<Figure size 432x288 with 1 Axes>"
            ]
          },
          "metadata": {
            "tags": []
          }
        }
      ]
    }
  ]
}