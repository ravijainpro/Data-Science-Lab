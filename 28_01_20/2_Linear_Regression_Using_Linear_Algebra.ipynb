{
  "nbformat": 4,
  "nbformat_minor": 0,
  "metadata": {
    "colab": {
      "name": "2_Linear Regression Using Linear Algebra.ipynb",
      "provenance": [],
      "collapsed_sections": [],
      "authorship_tag": "ABX9TyPUMZ5iAjLbeBl78v6XYzXR",
      "include_colab_link": true
    },
    "kernelspec": {
      "name": "python3",
      "display_name": "Python 3"
    }
  },
  "cells": [
    {
      "cell_type": "markdown",
      "metadata": {
        "id": "view-in-github",
        "colab_type": "text"
      },
      "source": [
        "<a href=\"https://colab.research.google.com/github/ravijainpro/Data-Science-Lab/blob/master/28_01_20/2_Linear_Regression_Using_Linear_Algebra.ipynb\" target=\"_parent\"><img src=\"https://colab.research.google.com/assets/colab-badge.svg\" alt=\"Open In Colab\"/></a>"
      ]
    },
    {
      "cell_type": "code",
      "metadata": {
        "id": "okySKym_geXO",
        "colab_type": "code",
        "colab": {
          "base_uri": "https://localhost:8080/",
          "height": 473
        },
        "outputId": "e3f47250-159e-4613-a67c-7b60badddf2c"
      },
      "source": [
        "import numpy as np\n",
        "import matplotlib.pyplot as plt\n",
        "\n",
        "# Random data\n",
        "N = 10\n",
        "M = 2\n",
        "input = np.random.random((N,M))\n",
        "print(input) \n",
        "\n",
        "# Setup matrices\n",
        "m = np.shape(input)[0]\n",
        "X = np.matrix([np.ones(m), input[:,0]]).T\n",
        "y = np.matrix(input[:,1]).T\n",
        "\n",
        "# Solve for projection matrix\n",
        "p_mat = np.linalg.inv(X.T.dot(X)).dot(X.T).dot(y)\n",
        "print(p_mat)\n",
        "\n",
        "# Find regression line\n",
        "xx = np.linspace(0, 1, 2)\n",
        "yy = np.array(p_mat[0] + p_mat[1] * xx)\n",
        "\n",
        "# Plot data, regression line\n",
        "plt.figure(1)\n",
        "plt.plot(xx, yy.T, color='b')\n",
        "plt.scatter(input[:,0], input[:,1], color='r')\n",
        "plt.show()\n"
      ],
      "execution_count": 19,
      "outputs": [
        {
          "output_type": "stream",
          "text": [
            "[[0.52570241 0.84269601]\n",
            " [0.97057119 0.90163286]\n",
            " [0.47612443 0.82732549]\n",
            " [0.12704977 0.34875794]\n",
            " [0.31569939 0.92056297]\n",
            " [0.71839679 0.64833544]\n",
            " [0.21497528 0.33264779]\n",
            " [0.08026985 0.70897272]\n",
            " [0.58396473 0.54910887]\n",
            " [0.27355365 0.1553938 ]]\n",
            "[[0.42285446]\n",
            " [0.46820937]]\n"
          ],
          "name": "stdout"
        },
        {
          "output_type": "display_data",
          "data": {
            "image/png": "[encoded data removed]",
            "text/plain": [
              "<Figure size 432x288 with 1 Axes>"
            ]
          },
          "metadata": {
            "tags": []
          }
        }
      ]
    },
    {
      "cell_type": "code",
      "metadata": {
        "id": "v_YmIqhkEeap",
        "colab_type": "code",
        "colab": {}
      },
      "source": [
        ""
      ],
      "execution_count": 0,
      "outputs": []
    }
  ]
}