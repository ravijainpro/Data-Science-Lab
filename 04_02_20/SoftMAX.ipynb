{
  "nbformat": 4,
  "nbformat_minor": 0,
  "metadata": {
    "colab": {
      "name": "SoftMAX.ipynb",
      "provenance": [],
      "authorship_tag": "ABX9TyOdwwVyvc1WSXgs/BwlZpwL",
      "include_colab_link": true
    },
    "kernelspec": {
      "name": "python3",
      "display_name": "Python 3"
    }
  },
  "cells": [
    {
      "cell_type": "markdown",
      "metadata": {
        "id": "view-in-github",
        "colab_type": "text"
      },
      "source": [
        "<a href=\"https://colab.research.google.com/github/ravijainpro/Data-Science-Lab/blob/master/04_02_20/SoftMAX.ipynb\" target=\"_parent\"><img src=\"https://colab.research.google.com/assets/colab-badge.svg\" alt=\"Open In Colab\"/></a>"
      ]
    },
    {
      "cell_type": "code",
      "metadata": {
        "id": "LOm4NABWnhUX",
        "colab_type": "code",
        "colab": {}
      },
      "source": [
        "import numpy as np\n",
        "import tensorflow as tf\n",
        "from sklearn import datasets"
      ],
      "execution_count": 0,
      "outputs": []
    },
    {
      "cell_type": "code",
      "metadata": {
        "id": "AP10EsPTpYAc",
        "colab_type": "code",
        "colab": {}
      },
      "source": [
        "iris = datasets.load_iris()\n",
        "num_labels = len(set(iris.target))"
      ],
      "execution_count": 0,
      "outputs": []
    },
    {
      "cell_type": "code",
      "metadata": {
        "id": "y60JyF3-paZ9",
        "colab_type": "code",
        "colab": {
          "base_uri": "https://localhost:8080/",
          "height": 35
        },
        "outputId": "dbe32fe2-d5f8-4607-919e-29d5d912511b"
      },
      "source": [
        "data = iris.data.astype(np.float32)\n",
        "labels = (np.arange(num_labels) == np.array(iris.target)[:,None]).astype(np.float32)\n",
        "print(data.shape, labels.shape)"
      ],
      "execution_count": 52,
      "outputs": [
        {
          "output_type": "stream",
          "text": [
            "(150, 4) (150, 3)\n"
          ],
          "name": "stdout"
        }
      ]
    },
    {
      "cell_type": "code",
      "metadata": {
        "id": "KfoOmqoBpcXA",
        "colab_type": "code",
        "colab": {}
      },
      "source": [
        "def accuracy(predictions, labels):\n",
        "    return (100.0 * np.sum(np.argmax(predictions, 1) == np.argmax(labels, 1))/ predictions.shape[0])"
      ],
      "execution_count": 0,
      "outputs": []
    },
    {
      "cell_type": "code",
      "metadata": {
        "id": "l6kWOtw2pobs",
        "colab_type": "code",
        "colab": {}
      },
      "source": [
        "feature_size = data.shape[1]\n",
        "regulation_rate = 5e-4\n",
        "graph = tf.Graph()\n",
        "\n",
        "with graph.as_default():\n",
        "    tf_train_dataset = tf.constant(data)\n",
        "    tf_train_labels = tf.constant(labels)\n",
        "    \n",
        "    weights = tf.Variable(tf.truncated_normal([feature_size, num_labels]))\n",
        "    biases = tf.Variable(tf.zeros([num_labels]))\n",
        "\n",
        "    logits = tf.matmul(tf_train_dataset, weights) + biases\n",
        "    #loss = tf.reduce_mean(tf.nn.softmax(logits=logits))\n",
        "    loss = tf.reduce_mean(tf.nn.softmax_cross_entropy_with_logits(labels=tf_train_labels, logits=logits)) \n",
        "    loss += regulation_rate * tf.nn.l2_loss(weights)\n",
        "    optimizer = tf.train.GradientDescentOptimizer(0.001).minimize(loss) \n",
        "    train_prediction = tf.nn.softmax(logits)"
      ],
      "execution_count": 0,
      "outputs": []
    },
    {
      "cell_type": "code",
      "metadata": {
        "id": "oXd3ivpcpwad",
        "colab_type": "code",
        "colab": {
          "base_uri": "https://localhost:8080/",
          "height": 399
        },
        "outputId": "cb1a5033-07bc-45a4-8e25-825578e19ddc"
      },
      "source": [
        "with tf.Session(graph=graph) as session:\n",
        "    tf.initialize_all_variables().run()\n",
        "    for step in range(100001):\n",
        "        _, l, predictions = session.run([optimizer, loss, train_prediction])\n",
        "        if step % 5000 == 0:\n",
        "            print('step:{} loss:{:.6f} accuracy: {:.2f}'.format(step, l, accuracy(predictions, labels)))"
      ],
      "execution_count": 92,
      "outputs": [
        {
          "output_type": "stream",
          "text": [
            "step:0 loss:2.248589 accuracy: 37.33\n",
            "step:5000 loss:0.403992 accuracy: 82.00\n",
            "step:10000 loss:0.342587 accuracy: 86.67\n",
            "step:15000 loss:0.302937 accuracy: 89.33\n",
            "step:20000 loss:0.273875 accuracy: 94.00\n",
            "step:25000 loss:0.251458 accuracy: 96.00\n",
            "step:30000 loss:0.233620 accuracy: 96.00\n",
            "step:35000 loss:0.219097 accuracy: 96.67\n",
            "step:40000 loss:0.207053 accuracy: 96.67\n",
            "step:45000 loss:0.196913 accuracy: 96.67\n",
            "step:50000 loss:0.188266 accuracy: 97.33\n",
            "step:55000 loss:0.180810 accuracy: 97.33\n",
            "step:60000 loss:0.174319 accuracy: 97.33\n",
            "step:65000 loss:0.168622 accuracy: 97.33\n",
            "step:70000 loss:0.163584 accuracy: 97.33\n",
            "step:75000 loss:0.159098 accuracy: 97.33\n",
            "step:80000 loss:0.155081 accuracy: 97.33\n",
            "step:85000 loss:0.151465 accuracy: 98.00\n",
            "step:90000 loss:0.148195 accuracy: 98.00\n",
            "step:95000 loss:0.145223 accuracy: 98.00\n",
            "step:100000 loss:0.142513 accuracy: 98.00\n"
          ],
          "name": "stdout"
        }
      ]
    },
    {
      "cell_type": "code",
      "metadata": {
        "id": "qeuinV65qO3T",
        "colab_type": "code",
        "colab": {}
      },
      "source": [
        ""
      ],
      "execution_count": 0,
      "outputs": []
    }
  ]
}